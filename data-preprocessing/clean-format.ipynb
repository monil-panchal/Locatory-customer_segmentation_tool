{
 "cells": [
  {
   "cell_type": "code",
   "execution_count": 1,
   "metadata": {},
   "outputs": [],
   "source": [
    "import json\n",
    "import pandas as pd\n",
    "import numpy as np"
   ]
  },
  {
   "cell_type": "code",
   "execution_count": 2,
   "metadata": {},
   "outputs": [
    {
     "output_type": "execute_result",
     "data": {
      "text/plain": [
       "                           order_id                       customer_id  \\\n",
       "0  e481f51cbdc54678b7cc49136f2d6af7  9ef432eb6251297304e76186b10a928d   \n",
       "1  e481f51cbdc54678b7cc49136f2d6af7  9ef432eb6251297304e76186b10a928d   \n",
       "2  e481f51cbdc54678b7cc49136f2d6af7  9ef432eb6251297304e76186b10a928d   \n",
       "3  53cdb2fc8bc7dce0b6741e2150273451  b0830fb4747a6c6d20dea0b8c802d7ef   \n",
       "4  47770eb9100c2d0c44946d9cf07ec65d  41ce2a54c0b03bf3443c3d931a367089   \n",
       "\n",
       "  order_purchase_timestamp order_delivered_customer_date  \\\n",
       "0      2017-10-02 10:56:33           2017-10-10 21:25:13   \n",
       "1      2017-10-02 10:56:33           2017-10-10 21:25:13   \n",
       "2      2017-10-02 10:56:33           2017-10-10 21:25:13   \n",
       "3      2018-07-24 20:41:37           2018-08-07 15:27:45   \n",
       "4      2018-08-08 08:38:49           2018-08-17 18:06:29   \n",
       "\n",
       "   customer_zip_code_prefix customer_city customer_state  geolocation_lat  \\\n",
       "0                      3149     sao paulo             SP       -23.574809   \n",
       "1                      3149     sao paulo             SP       -23.574809   \n",
       "2                      3149     sao paulo             SP       -23.574809   \n",
       "3                     47813     barreiras             BA       -12.169860   \n",
       "4                     75265    vianopolis             GO       -16.746337   \n",
       "\n",
       "   geolocation_lng  payment_value                        product_id  \\\n",
       "0       -46.587471          18.12  87285b34884572647811a353c7ac498a   \n",
       "1       -46.587471           2.00  87285b34884572647811a353c7ac498a   \n",
       "2       -46.587471          18.59  87285b34884572647811a353c7ac498a   \n",
       "3       -44.988369         141.46  595fac2a385ac33a80bd5114aec74eb8   \n",
       "4       -48.514624         179.12  aa4383b373c6aca5d8797843e5594415   \n",
       "\n",
       "                          seller_id  shipping_limit_date  \\\n",
       "0  3504c0cb71d7fa48d967e0e4c94d59d9  2017-10-06 11:07:15   \n",
       "1  3504c0cb71d7fa48d967e0e4c94d59d9  2017-10-06 11:07:15   \n",
       "2  3504c0cb71d7fa48d967e0e4c94d59d9  2017-10-06 11:07:15   \n",
       "3  289cdb325fb7e7f891c38608bf9e0962  2018-07-30 03:24:27   \n",
       "4  4869f7a5dfa277a7dca6462dcf3b52b2  2018-08-13 08:55:23   \n",
       "\n",
       "   product_category_name product_category_name_english  \\\n",
       "0  utilidades_domesticas                    housewares   \n",
       "1  utilidades_domesticas                    housewares   \n",
       "2  utilidades_domesticas                    housewares   \n",
       "3             perfumaria                     perfumery   \n",
       "4             automotivo                          auto   \n",
       "\n",
       "   seller_zip_code_prefix     seller_city seller_state  \n",
       "0                  9350.0            maua           SP  \n",
       "1                  9350.0            maua           SP  \n",
       "2                  9350.0            maua           SP  \n",
       "3                 31570.0  belo horizonte           SP  \n",
       "4                 14840.0         guariba           SP  "
      ],
      "text/html": "<div>\n<style scoped>\n    .dataframe tbody tr th:only-of-type {\n        vertical-align: middle;\n    }\n\n    .dataframe tbody tr th {\n        vertical-align: top;\n    }\n\n    .dataframe thead th {\n        text-align: right;\n    }\n</style>\n<table border=\"1\" class=\"dataframe\">\n  <thead>\n    <tr style=\"text-align: right;\">\n      <th></th>\n      <th>order_id</th>\n      <th>customer_id</th>\n      <th>order_purchase_timestamp</th>\n      <th>order_delivered_customer_date</th>\n      <th>customer_zip_code_prefix</th>\n      <th>customer_city</th>\n      <th>customer_state</th>\n      <th>geolocation_lat</th>\n      <th>geolocation_lng</th>\n      <th>payment_value</th>\n      <th>product_id</th>\n      <th>seller_id</th>\n      <th>shipping_limit_date</th>\n      <th>product_category_name</th>\n      <th>product_category_name_english</th>\n      <th>seller_zip_code_prefix</th>\n      <th>seller_city</th>\n      <th>seller_state</th>\n    </tr>\n  </thead>\n  <tbody>\n    <tr>\n      <th>0</th>\n      <td>e481f51cbdc54678b7cc49136f2d6af7</td>\n      <td>9ef432eb6251297304e76186b10a928d</td>\n      <td>2017-10-02 10:56:33</td>\n      <td>2017-10-10 21:25:13</td>\n      <td>3149</td>\n      <td>sao paulo</td>\n      <td>SP</td>\n      <td>-23.574809</td>\n      <td>-46.587471</td>\n      <td>18.12</td>\n      <td>87285b34884572647811a353c7ac498a</td>\n      <td>3504c0cb71d7fa48d967e0e4c94d59d9</td>\n      <td>2017-10-06 11:07:15</td>\n      <td>utilidades_domesticas</td>\n      <td>housewares</td>\n      <td>9350.0</td>\n      <td>maua</td>\n      <td>SP</td>\n    </tr>\n    <tr>\n      <th>1</th>\n      <td>e481f51cbdc54678b7cc49136f2d6af7</td>\n      <td>9ef432eb6251297304e76186b10a928d</td>\n      <td>2017-10-02 10:56:33</td>\n      <td>2017-10-10 21:25:13</td>\n      <td>3149</td>\n      <td>sao paulo</td>\n      <td>SP</td>\n      <td>-23.574809</td>\n      <td>-46.587471</td>\n      <td>2.00</td>\n      <td>87285b34884572647811a353c7ac498a</td>\n      <td>3504c0cb71d7fa48d967e0e4c94d59d9</td>\n      <td>2017-10-06 11:07:15</td>\n      <td>utilidades_domesticas</td>\n      <td>housewares</td>\n      <td>9350.0</td>\n      <td>maua</td>\n      <td>SP</td>\n    </tr>\n    <tr>\n      <th>2</th>\n      <td>e481f51cbdc54678b7cc49136f2d6af7</td>\n      <td>9ef432eb6251297304e76186b10a928d</td>\n      <td>2017-10-02 10:56:33</td>\n      <td>2017-10-10 21:25:13</td>\n      <td>3149</td>\n      <td>sao paulo</td>\n      <td>SP</td>\n      <td>-23.574809</td>\n      <td>-46.587471</td>\n      <td>18.59</td>\n      <td>87285b34884572647811a353c7ac498a</td>\n      <td>3504c0cb71d7fa48d967e0e4c94d59d9</td>\n      <td>2017-10-06 11:07:15</td>\n      <td>utilidades_domesticas</td>\n      <td>housewares</td>\n      <td>9350.0</td>\n      <td>maua</td>\n      <td>SP</td>\n    </tr>\n    <tr>\n      <th>3</th>\n      <td>53cdb2fc8bc7dce0b6741e2150273451</td>\n      <td>b0830fb4747a6c6d20dea0b8c802d7ef</td>\n      <td>2018-07-24 20:41:37</td>\n      <td>2018-08-07 15:27:45</td>\n      <td>47813</td>\n      <td>barreiras</td>\n      <td>BA</td>\n      <td>-12.169860</td>\n      <td>-44.988369</td>\n      <td>141.46</td>\n      <td>595fac2a385ac33a80bd5114aec74eb8</td>\n      <td>289cdb325fb7e7f891c38608bf9e0962</td>\n      <td>2018-07-30 03:24:27</td>\n      <td>perfumaria</td>\n      <td>perfumery</td>\n      <td>31570.0</td>\n      <td>belo horizonte</td>\n      <td>SP</td>\n    </tr>\n    <tr>\n      <th>4</th>\n      <td>47770eb9100c2d0c44946d9cf07ec65d</td>\n      <td>41ce2a54c0b03bf3443c3d931a367089</td>\n      <td>2018-08-08 08:38:49</td>\n      <td>2018-08-17 18:06:29</td>\n      <td>75265</td>\n      <td>vianopolis</td>\n      <td>GO</td>\n      <td>-16.746337</td>\n      <td>-48.514624</td>\n      <td>179.12</td>\n      <td>aa4383b373c6aca5d8797843e5594415</td>\n      <td>4869f7a5dfa277a7dca6462dcf3b52b2</td>\n      <td>2018-08-13 08:55:23</td>\n      <td>automotivo</td>\n      <td>auto</td>\n      <td>14840.0</td>\n      <td>guariba</td>\n      <td>SP</td>\n    </tr>\n  </tbody>\n</table>\n</div>"
     },
     "metadata": {},
     "execution_count": 2
    }
   ],
   "source": [
    "df = pd.read_csv(\"../dataset/final_dataset.csv\")\n",
    "df.head()"
   ]
  },
  {
   "cell_type": "code",
   "execution_count": 3,
   "metadata": {},
   "outputs": [
    {
     "output_type": "execute_result",
     "data": {
      "text/plain": [
       "118434"
      ]
     },
     "metadata": {},
     "execution_count": 3
    }
   ],
   "source": [
    "len(df)"
   ]
  },
  {
   "cell_type": "code",
   "execution_count": 4,
   "metadata": {},
   "outputs": [
    {
     "output_type": "stream",
     "name": "stdout",
     "text": [
      "['order_id', 'customer_id', 'order_purchase_timestamp', 'order_delivered_customer_date', 'customer_zip_code_prefix', 'customer_city', 'customer_state', 'geolocation_lat', 'geolocation_lng', 'payment_value', 'product_id', 'seller_id', 'shipping_limit_date', 'product_category_name', 'product_category_name_english', 'seller_zip_code_prefix', 'seller_city', 'seller_state']\n['order_id', 'customer_id', 'order_purchase_timestamp', 'order_delivered_customer_date', 'customer_zip_code_prefix', 'customer_city', 'customer_state', 'geolocation_lat', 'geolocation_lng', 'product_id', 'seller_id', 'shipping_limit_date', 'product_category_name', 'product_category_name_english', 'seller_zip_code_prefix', 'seller_city', 'seller_state']\n"
     ]
    },
    {
     "output_type": "execute_result",
     "data": {
      "text/plain": [
       "                                                                                                                                                                                                                                                                                                                                                                                                                    payment_value\n",
       "order_id                         customer_id                      order_purchase_timestamp order_delivered_customer_date customer_zip_code_prefix customer_city         customer_state geolocation_lat geolocation_lng product_id                       seller_id                        shipping_limit_date product_category_name product_category_name_english seller_zip_code_prefix seller_city   seller_state               \n",
       "00010242fe8c5a6d1ba2dd792cb16214 3ce436f183e68e07877b285a838db11a 2017-09-13 08:59:02      2017-09-20 23:43:48           28013                    campos dos goytacazes RJ             -21.758076      -41.312633      4244733e06e7ecb4970a6e2683c13e61 48436dade18ac8b2bce089ec2a041202 2017-09-19 09:45:35 cool_stuff            cool_stuff                    27277.0                volta redonda SP                    72.19\n",
       "00018f77f2f0320c557190d7a144bdd3 f6dd3ec061db4e3987629fe6b26e5cce 2017-04-26 10:53:06      2017-05-12 16:04:24           15775                    santa fe do sul       SP             -20.212393      -50.941471      e5f2d52b802189ee658865ca93d83a8f dd7ddc04e1b6c2c614352b383efe2d36 2017-05-03 11:05:13 pet_shop              pet_shop                      3471.0                 sao paulo     SP                   259.83\n",
       "000229ec398224ef6ca0657da4fc703e 6489ae5e4333f3693df5ad4372dab6d3 2018-01-14 14:33:31      2018-01-22 13:19:16           35661                    para de minas         MG             -19.860439      -44.597972      c777355d18b72b67abbeef9df44fd0fd 5b51032eddd242adc84c38acab88f23d 2018-01-18 14:48:30 moveis_decoracao      furniture_decor               37564.0                borda da mata MG                   216.87\n",
       "00024acbcdf0a6daa1e931b038114c75 d4eb9395c8c0431ee92fce09860c5a06 2018-08-08 10:00:35      2018-08-14 13:32:39           12952                    atibaia               SP             -23.144923      -46.539830      7634da152a4610f1595efa32f14722fc 9d7a1d34a5052409006425275ba1c2b4 2018-08-15 10:10:18 perfumaria            perfumery                     14403.0                franca        SP                    25.78\n",
       "00042b26cf59d7ce69dfabb4e55b4fd9 58dbd0b2d70206bf40e62cd34e84d795 2017-02-04 13:57:51      2017-03-01 16:42:31           13226                    varzea paulista       SP             -23.249008      -46.824961      ac6c3623068f30de03045865e4e10089 df560393f3a51e74553ab94004ba5c87 2017-02-13 13:57:51 ferramentas_jardim    garden_tools                  87900.0                loanda        PR                   218.04"
      ],
      "text/html": "<div>\n<style scoped>\n    .dataframe tbody tr th:only-of-type {\n        vertical-align: middle;\n    }\n\n    .dataframe tbody tr th {\n        vertical-align: top;\n    }\n\n    .dataframe thead th {\n        text-align: right;\n    }\n</style>\n<table border=\"1\" class=\"dataframe\">\n  <thead>\n    <tr style=\"text-align: right;\">\n      <th></th>\n      <th></th>\n      <th></th>\n      <th></th>\n      <th></th>\n      <th></th>\n      <th></th>\n      <th></th>\n      <th></th>\n      <th></th>\n      <th></th>\n      <th></th>\n      <th></th>\n      <th></th>\n      <th></th>\n      <th></th>\n      <th></th>\n      <th>payment_value</th>\n    </tr>\n    <tr>\n      <th>order_id</th>\n      <th>customer_id</th>\n      <th>order_purchase_timestamp</th>\n      <th>order_delivered_customer_date</th>\n      <th>customer_zip_code_prefix</th>\n      <th>customer_city</th>\n      <th>customer_state</th>\n      <th>geolocation_lat</th>\n      <th>geolocation_lng</th>\n      <th>product_id</th>\n      <th>seller_id</th>\n      <th>shipping_limit_date</th>\n      <th>product_category_name</th>\n      <th>product_category_name_english</th>\n      <th>seller_zip_code_prefix</th>\n      <th>seller_city</th>\n      <th>seller_state</th>\n      <th></th>\n    </tr>\n  </thead>\n  <tbody>\n    <tr>\n      <th>00010242fe8c5a6d1ba2dd792cb16214</th>\n      <th>3ce436f183e68e07877b285a838db11a</th>\n      <th>2017-09-13 08:59:02</th>\n      <th>2017-09-20 23:43:48</th>\n      <th>28013</th>\n      <th>campos dos goytacazes</th>\n      <th>RJ</th>\n      <th>-21.758076</th>\n      <th>-41.312633</th>\n      <th>4244733e06e7ecb4970a6e2683c13e61</th>\n      <th>48436dade18ac8b2bce089ec2a041202</th>\n      <th>2017-09-19 09:45:35</th>\n      <th>cool_stuff</th>\n      <th>cool_stuff</th>\n      <th>27277.0</th>\n      <th>volta redonda</th>\n      <th>SP</th>\n      <td>72.19</td>\n    </tr>\n    <tr>\n      <th>00018f77f2f0320c557190d7a144bdd3</th>\n      <th>f6dd3ec061db4e3987629fe6b26e5cce</th>\n      <th>2017-04-26 10:53:06</th>\n      <th>2017-05-12 16:04:24</th>\n      <th>15775</th>\n      <th>santa fe do sul</th>\n      <th>SP</th>\n      <th>-20.212393</th>\n      <th>-50.941471</th>\n      <th>e5f2d52b802189ee658865ca93d83a8f</th>\n      <th>dd7ddc04e1b6c2c614352b383efe2d36</th>\n      <th>2017-05-03 11:05:13</th>\n      <th>pet_shop</th>\n      <th>pet_shop</th>\n      <th>3471.0</th>\n      <th>sao paulo</th>\n      <th>SP</th>\n      <td>259.83</td>\n    </tr>\n    <tr>\n      <th>000229ec398224ef6ca0657da4fc703e</th>\n      <th>6489ae5e4333f3693df5ad4372dab6d3</th>\n      <th>2018-01-14 14:33:31</th>\n      <th>2018-01-22 13:19:16</th>\n      <th>35661</th>\n      <th>para de minas</th>\n      <th>MG</th>\n      <th>-19.860439</th>\n      <th>-44.597972</th>\n      <th>c777355d18b72b67abbeef9df44fd0fd</th>\n      <th>5b51032eddd242adc84c38acab88f23d</th>\n      <th>2018-01-18 14:48:30</th>\n      <th>moveis_decoracao</th>\n      <th>furniture_decor</th>\n      <th>37564.0</th>\n      <th>borda da mata</th>\n      <th>MG</th>\n      <td>216.87</td>\n    </tr>\n    <tr>\n      <th>00024acbcdf0a6daa1e931b038114c75</th>\n      <th>d4eb9395c8c0431ee92fce09860c5a06</th>\n      <th>2018-08-08 10:00:35</th>\n      <th>2018-08-14 13:32:39</th>\n      <th>12952</th>\n      <th>atibaia</th>\n      <th>SP</th>\n      <th>-23.144923</th>\n      <th>-46.539830</th>\n      <th>7634da152a4610f1595efa32f14722fc</th>\n      <th>9d7a1d34a5052409006425275ba1c2b4</th>\n      <th>2018-08-15 10:10:18</th>\n      <th>perfumaria</th>\n      <th>perfumery</th>\n      <th>14403.0</th>\n      <th>franca</th>\n      <th>SP</th>\n      <td>25.78</td>\n    </tr>\n    <tr>\n      <th>00042b26cf59d7ce69dfabb4e55b4fd9</th>\n      <th>58dbd0b2d70206bf40e62cd34e84d795</th>\n      <th>2017-02-04 13:57:51</th>\n      <th>2017-03-01 16:42:31</th>\n      <th>13226</th>\n      <th>varzea paulista</th>\n      <th>SP</th>\n      <th>-23.249008</th>\n      <th>-46.824961</th>\n      <th>ac6c3623068f30de03045865e4e10089</th>\n      <th>df560393f3a51e74553ab94004ba5c87</th>\n      <th>2017-02-13 13:57:51</th>\n      <th>ferramentas_jardim</th>\n      <th>garden_tools</th>\n      <th>87900.0</th>\n      <th>loanda</th>\n      <th>PR</th>\n      <td>218.04</td>\n    </tr>\n  </tbody>\n</table>\n</div>"
     },
     "metadata": {},
     "execution_count": 4
    }
   ],
   "source": [
    "gby_cols = list(df.columns.values)\n",
    "print(gby_cols)\n",
    "gby_cols.remove('payment_value')\n",
    "print(gby_cols)\n",
    "final_df = df.groupby(gby_cols).agg({'payment_value': ['sum']})\n",
    "final_df.columns = final_df.columns.droplevel(1)\n",
    "final_df.head()"
   ]
  },
  {
   "cell_type": "code",
   "execution_count": 5,
   "metadata": {
    "scrolled": true
   },
   "outputs": [
    {
     "output_type": "stream",
     "name": "stdout",
     "text": [
      "<class 'pandas.core.frame.DataFrame'>\nRangeIndex: 98506 entries, 0 to 98505\nData columns (total 18 columns):\n #   Column                         Non-Null Count  Dtype  \n---  ------                         --------------  -----  \n 0   order_id                       98506 non-null  object \n 1   customer_id                    98506 non-null  object \n 2   order_purchase_timestamp       98506 non-null  object \n 3   order_delivered_customer_date  98506 non-null  object \n 4   customer_zip_code_prefix       98506 non-null  int64  \n 5   customer_city                  98506 non-null  object \n 6   customer_state                 98506 non-null  object \n 7   geolocation_lat                98506 non-null  float64\n 8   geolocation_lng                98506 non-null  float64\n 9   product_id                     98506 non-null  object \n 10  seller_id                      98506 non-null  object \n 11  shipping_limit_date            98506 non-null  object \n 12  product_category_name          98506 non-null  object \n 13  product_category_name_english  98506 non-null  object \n 14  seller_zip_code_prefix         98506 non-null  float64\n 15  seller_city                    98506 non-null  object \n 16  seller_state                   98506 non-null  object \n 17  payment_value                  98506 non-null  float64\ndtypes: float64(4), int64(1), object(13)\nmemory usage: 13.5+ MB\nNone\n                           order_id                       customer_id  \\\n0  00010242fe8c5a6d1ba2dd792cb16214  3ce436f183e68e07877b285a838db11a   \n1  00018f77f2f0320c557190d7a144bdd3  f6dd3ec061db4e3987629fe6b26e5cce   \n2  000229ec398224ef6ca0657da4fc703e  6489ae5e4333f3693df5ad4372dab6d3   \n3  00024acbcdf0a6daa1e931b038114c75  d4eb9395c8c0431ee92fce09860c5a06   \n4  00042b26cf59d7ce69dfabb4e55b4fd9  58dbd0b2d70206bf40e62cd34e84d795   \n\n  order_purchase_timestamp order_delivered_customer_date  \\\n0      2017-09-13 08:59:02           2017-09-20 23:43:48   \n1      2017-04-26 10:53:06           2017-05-12 16:04:24   \n2      2018-01-14 14:33:31           2018-01-22 13:19:16   \n3      2018-08-08 10:00:35           2018-08-14 13:32:39   \n4      2017-02-04 13:57:51           2017-03-01 16:42:31   \n\n   customer_zip_code_prefix          customer_city customer_state  \\\n0                     28013  campos dos goytacazes             RJ   \n1                     15775        santa fe do sul             SP   \n2                     35661          para de minas             MG   \n3                     12952                atibaia             SP   \n4                     13226        varzea paulista             SP   \n\n   geolocation_lat  geolocation_lng                        product_id  \\\n0       -21.758076       -41.312633  4244733e06e7ecb4970a6e2683c13e61   \n1       -20.212393       -50.941471  e5f2d52b802189ee658865ca93d83a8f   \n2       -19.860439       -44.597972  c777355d18b72b67abbeef9df44fd0fd   \n3       -23.144923       -46.539830  7634da152a4610f1595efa32f14722fc   \n4       -23.249008       -46.824961  ac6c3623068f30de03045865e4e10089   \n\n                          seller_id  shipping_limit_date  \\\n0  48436dade18ac8b2bce089ec2a041202  2017-09-19 09:45:35   \n1  dd7ddc04e1b6c2c614352b383efe2d36  2017-05-03 11:05:13   \n2  5b51032eddd242adc84c38acab88f23d  2018-01-18 14:48:30   \n3  9d7a1d34a5052409006425275ba1c2b4  2018-08-15 10:10:18   \n4  df560393f3a51e74553ab94004ba5c87  2017-02-13 13:57:51   \n\n  product_category_name product_category_name_english  seller_zip_code_prefix  \\\n0            cool_stuff                    cool_stuff                 27277.0   \n1              pet_shop                      pet_shop                  3471.0   \n2      moveis_decoracao               furniture_decor                 37564.0   \n3            perfumaria                     perfumery                 14403.0   \n4    ferramentas_jardim                  garden_tools                 87900.0   \n\n     seller_city seller_state  payment_value  \n0  volta redonda           SP          72.19  \n1      sao paulo           SP         259.83  \n2  borda da mata           MG         216.87  \n3         franca           SP          25.78  \n4         loanda           PR         218.04  \n"
     ]
    }
   ],
   "source": [
    "final_df = final_df.reset_index()\n",
    "print(final_df.info())\n",
    "print(final_df.head())"
   ]
  },
  {
   "cell_type": "code",
   "execution_count": 6,
   "metadata": {
    "scrolled": true
   },
   "outputs": [
    {
     "output_type": "stream",
     "name": "stdout",
     "text": [
      "                           order_id                       customer_id  \\\n0  00010242fe8c5a6d1ba2dd792cb16214  3ce436f183e68e07877b285a838db11a   \n1  00018f77f2f0320c557190d7a144bdd3  f6dd3ec061db4e3987629fe6b26e5cce   \n2  000229ec398224ef6ca0657da4fc703e  6489ae5e4333f3693df5ad4372dab6d3   \n3  00024acbcdf0a6daa1e931b038114c75  d4eb9395c8c0431ee92fce09860c5a06   \n4  00042b26cf59d7ce69dfabb4e55b4fd9  58dbd0b2d70206bf40e62cd34e84d795   \n\n  order_purchase_timestamp order_delivered_customer_date  \\\n0      2017-09-13 08:59:02           2017-09-20 23:43:48   \n1      2017-04-26 10:53:06           2017-05-12 16:04:24   \n2      2018-01-14 14:33:31           2018-01-22 13:19:16   \n3      2018-08-08 10:00:35           2018-08-14 13:32:39   \n4      2017-02-04 13:57:51           2017-03-01 16:42:31   \n\n   customer_zip_code_prefix          customer_city customer_state  \\\n0                     28013  campos dos goytacazes             RJ   \n1                     15775        santa fe do sul             SP   \n2                     35661          para de minas             MG   \n3                     12952                atibaia             SP   \n4                     13226        varzea paulista             SP   \n\n   geolocation_lat  geolocation_lng                        product_id  \\\n0       -21.758076       -41.312633  4244733e06e7ecb4970a6e2683c13e61   \n1       -20.212393       -50.941471  e5f2d52b802189ee658865ca93d83a8f   \n2       -19.860439       -44.597972  c777355d18b72b67abbeef9df44fd0fd   \n3       -23.144923       -46.539830  7634da152a4610f1595efa32f14722fc   \n4       -23.249008       -46.824961  ac6c3623068f30de03045865e4e10089   \n\n                          seller_id  shipping_limit_date  \\\n0  48436dade18ac8b2bce089ec2a041202  2017-09-19 09:45:35   \n1  dd7ddc04e1b6c2c614352b383efe2d36  2017-05-03 11:05:13   \n2  5b51032eddd242adc84c38acab88f23d  2018-01-18 14:48:30   \n3  9d7a1d34a5052409006425275ba1c2b4  2018-08-15 10:10:18   \n4  df560393f3a51e74553ab94004ba5c87  2017-02-13 13:57:51   \n\n  product_category_name product_category_name_english  seller_zip_code_prefix  \\\n0            cool_stuff                    cool_stuff                   27277   \n1              pet_shop                      pet_shop                    3471   \n2      moveis_decoracao               furniture_decor                   37564   \n3            perfumaria                     perfumery                   14403   \n4    ferramentas_jardim                  garden_tools                   87900   \n\n     seller_city seller_state  payment_value  \n0  volta redonda           SP          72.19  \n1      sao paulo           SP         259.83  \n2  borda da mata           MG         216.87  \n3         franca           SP          25.78  \n4         loanda           PR         218.04  \n"
     ]
    }
   ],
   "source": [
    "final_df['seller_zip_code_prefix'] = final_df['seller_zip_code_prefix'].astype(int)\n",
    "print(final_df.head())"
   ]
  },
  {
   "cell_type": "code",
   "execution_count": 7,
   "metadata": {
    "scrolled": true
   },
   "outputs": [
    {
     "output_type": "stream",
     "name": "stdout",
     "text": [
      "<class 'pandas.core.frame.DataFrame'>\nRangeIndex: 32951 entries, 0 to 32950\nData columns (total 9 columns):\n #   Column                      Non-Null Count  Dtype  \n---  ------                      --------------  -----  \n 0   product_id                  32951 non-null  object \n 1   product_category_name       32341 non-null  object \n 2   product_name_lenght         32341 non-null  float64\n 3   product_description_lenght  32341 non-null  float64\n 4   product_photos_qty          32341 non-null  float64\n 5   product_weight_g            32949 non-null  float64\n 6   product_length_cm           32949 non-null  float64\n 7   product_height_cm           32949 non-null  float64\n 8   product_width_cm            32949 non-null  float64\ndtypes: float64(7), object(2)\nmemory usage: 2.3+ MB\nNone\n                         product_id  product_category_name  \\\n0  1e9e8ef04dbcff4541ed26657ea517e5             perfumaria   \n1  3aa071139cb16b67ca9e5dea641aaa2f                  artes   \n2  96bd76ec8810374ed1b65e291975717f          esporte_lazer   \n3  cef67bcfe19066a932b7673e239eb23d                  bebes   \n4  9dc1a7de274444849c219cff195d0b71  utilidades_domesticas   \n\n   product_name_lenght  product_description_lenght  product_photos_qty  \\\n0                 40.0                       287.0                 1.0   \n1                 44.0                       276.0                 1.0   \n2                 46.0                       250.0                 1.0   \n3                 27.0                       261.0                 1.0   \n4                 37.0                       402.0                 4.0   \n\n   product_weight_g  product_length_cm  product_height_cm  product_width_cm  \n0             225.0               16.0               10.0              14.0  \n1            1000.0               30.0               18.0              20.0  \n2             154.0               18.0                9.0              15.0  \n3             371.0               26.0                4.0              26.0  \n4             625.0               20.0               17.0              13.0  \n"
     ]
    }
   ],
   "source": [
    "prod_df = pd.read_csv(\"../dataset/olist_products_dataset.csv\")\n",
    "print(prod_df.info())\n",
    "print(prod_df.head())"
   ]
  },
  {
   "cell_type": "code",
   "execution_count": 12,
   "metadata": {},
   "outputs": [],
   "source": [
    "#     print(len(req_prod_df[[\"seller_id\"]].drop_duplicates()))\n",
    "#     print(len(req_prod_df[[\"product_id\"]].drop_duplicates()))\n",
    "#     print(len(req_prod_df[[\"product_id\", \"seller_id\"]].drop_duplicates()))\n",
    "#     print(len(req_prod_df[[\"product_id\", \"seller_id\", \"product_category_name\"]].drop_duplicates()))\n",
    "\n",
    "def format_products_data(product_df, order_df):\n",
    "    \"\"\"\n",
    "    Assumptions: Seller_id is store_id, product_id is title because store_id and title are not present in the dataset\n",
    "    product description is not present in the dataset\n",
    "    quantity is not present in the dataset.\n",
    "    The payment_value is inconsistent therefore it cannot be used as unit_price.\n",
    "    \"\"\"\n",
    "    req_columns = [\"product_id\", \"seller_id\", \"product_category_name\"]\n",
    "    req_prod_df = order_df[req_columns]\n",
    "    req_prod_df = req_prod_df.drop_duplicates()\n",
    "    \n",
    "    # Merge dimensions and product_info\n",
    "    dim_cols = ['product_id', 'product_weight_g', 'product_length_cm', 'product_height_cm', 'product_width_cm']\n",
    "    req_prod_df = req_prod_df.merge(product_df[dim_cols], on=\"product_id\")\n",
    "\n",
    "    # Organization ID\n",
    "    req_prod_df[\"organization_id\"] = 1\n",
    "\n",
    "    # Rename columns\n",
    "    req_prod_df.rename({\"seller_id\": \"store_id\"}, axis=1, inplace=True)\n",
    "\n",
    "    return req_prod_df"
   ]
  },
  {
   "cell_type": "code",
   "execution_count": 32,
   "metadata": {},
   "outputs": [],
   "source": [
    "def get_product_dimension_dict(dimension_dict, row):\n",
    "    if row.get(\"product_weight_g\"):\n",
    "        dimension_dict[\"weight_g\"] = row.get(\"product_weight_g\")\n",
    "\n",
    "    if row.get(\"product_height_cm\"):\n",
    "        dimension_dict[\"height_cm\"] = row.get(\"product_height_cm\")\n",
    "\n",
    "    if row.get(\"product_width_cm\"):\n",
    "        dimension_dict[\"width_cm\"] = row.get(\"product_width_cm\")\n",
    "    \n",
    "    if row.get(\"product_length_cm\"):\n",
    "        dimension_dict[\"length_cm\"] = row.get(\"product_length_cm\")\n",
    "\n",
    "    return dimension_dict"
   ]
  },
  {
   "cell_type": "code",
   "execution_count": 30,
   "metadata": {},
   "outputs": [],
   "source": [
    "def save_product_data(formatted_prod_df):\n",
    "    product_list = []\n",
    "\n",
    "    for idx, row in formatted_prod_df.iterrows():\n",
    "        temp_dict = {}\n",
    "        dimension_dict = {}\n",
    "\n",
    "        if row.get(\"product_id\"):\n",
    "            temp_dict['product_id'] = row.get(\"product_id\")\n",
    "            temp_dict['title'] = row.get(\"product_id\")\n",
    "\n",
    "            if row.get(\"organization_id\"):\n",
    "                temp_dict['organization_id'] = row.get(\"organization_id\")\n",
    "            \n",
    "            if row.get(\"store_id\"):\n",
    "                temp_dict['store_id'] = row.get(\"store_id\")\n",
    "            \n",
    "            if row.get(\"product_category_name\"):\n",
    "                temp_dict['category'] = row.get(\"product_category_name\")\n",
    "\n",
    "            dimension_dict = get_product_dimension_dict(dimension_dict, row)\n",
    "            \n",
    "            if dimension_dict:\n",
    "                temp_dict['dimension'] = dimension_dict\n",
    "        \n",
    "        if temp_dict:\n",
    "            product_list.append(temp_dict)\n",
    "    \n",
    "    print(len(product_list))\n",
    "    with open('products.json', 'w') as fout:\n",
    "        json.dump(product_list, fout)"
   ]
  },
  {
   "cell_type": "code",
   "execution_count": 9,
   "metadata": {},
   "outputs": [],
   "source": [
    "def format_orders_data(df):\n",
    "    pass"
   ]
  },
  {
   "cell_type": "code",
   "execution_count": 33,
   "metadata": {},
   "outputs": [
    {
     "output_type": "execute_result",
     "data": {
      "text/plain": [
       "(33013,\n",
       "                          product_id                          store_id  \\\n",
       " 0  4244733e06e7ecb4970a6e2683c13e61  48436dade18ac8b2bce089ec2a041202   \n",
       " 1  e5f2d52b802189ee658865ca93d83a8f  dd7ddc04e1b6c2c614352b383efe2d36   \n",
       " 2  c777355d18b72b67abbeef9df44fd0fd  5b51032eddd242adc84c38acab88f23d   \n",
       " 3  7634da152a4610f1595efa32f14722fc  9d7a1d34a5052409006425275ba1c2b4   \n",
       " 4  ac6c3623068f30de03045865e4e10089  df560393f3a51e74553ab94004ba5c87   \n",
       " \n",
       "   product_category_name  product_weight_g  product_length_cm  \\\n",
       " 0            cool_stuff             650.0               28.0   \n",
       " 1              pet_shop           30000.0               50.0   \n",
       " 2      moveis_decoracao            3050.0               33.0   \n",
       " 3            perfumaria             200.0               16.0   \n",
       " 4    ferramentas_jardim            3750.0               35.0   \n",
       " \n",
       "    product_height_cm  product_width_cm  organization_id  \n",
       " 0                9.0              14.0                1  \n",
       " 1               30.0              40.0                1  \n",
       " 2               13.0              33.0                1  \n",
       " 3               10.0              15.0                1  \n",
       " 4               40.0              30.0                1  )"
      ]
     },
     "metadata": {},
     "execution_count": 33
    }
   ],
   "source": [
    "req_product_df = format_products_data(prod_df, final_df)\n",
    "len(req_product_df), req_product_df.head()"
   ]
  },
  {
   "cell_type": "code",
   "execution_count": 34,
   "metadata": {
    "tags": []
   },
   "outputs": [
    {
     "output_type": "stream",
     "name": "stdout",
     "text": [
      "33013\n"
     ]
    }
   ],
   "source": [
    "save_product_data(req_product_df)"
   ]
  },
  {
   "cell_type": "code",
   "execution_count": 11,
   "metadata": {},
   "outputs": [
    {
     "output_type": "stream",
     "name": "stdout",
     "text": [
      "<class 'pandas.core.frame.DataFrame'>\nInt64Index: 33013 entries, 0 to 33012\nData columns (total 7 columns):\n #   Column                 Non-Null Count  Dtype  \n---  ------                 --------------  -----  \n 0   product_id             33013 non-null  object \n 1   seller_id              33013 non-null  object \n 2   product_category_name  33013 non-null  object \n 3   product_weight_g       33012 non-null  float64\n 4   product_length_cm      33012 non-null  float64\n 5   product_height_cm      33012 non-null  float64\n 6   product_width_cm       33012 non-null  float64\ndtypes: float64(4), object(3)\nmemory usage: 2.0+ MB\n"
     ]
    }
   ],
   "source": [
    "req_product_df.info()"
   ]
  },
  {
   "cell_type": "code",
   "execution_count": null,
   "metadata": {},
   "outputs": [],
   "source": []
  }
 ],
 "metadata": {
  "kernelspec": {
   "display_name": "va",
   "language": "python",
   "name": "va"
  },
  "language_info": {
   "codemirror_mode": {
    "name": "ipython",
    "version": 3
   },
   "file_extension": ".py",
   "mimetype": "text/x-python",
   "name": "python",
   "nbconvert_exporter": "python",
   "pygments_lexer": "ipython3",
   "version": "3.8.5-final"
  }
 },
 "nbformat": 4,
 "nbformat_minor": 4
}